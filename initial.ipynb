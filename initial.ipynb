{
 "cells": [
  {
   "cell_type": "code",
   "execution_count": 98,
   "id": "a81cd5a9",
   "metadata": {},
   "outputs": [],
   "source": [
    "import pickle\n",
    "import torch\n",
    "# from torchvision import transforms # no torchvision because we are not working with images but with points\n",
    "from torch.utils.data import Dataset, DataLoader\n",
    "from torch.utils.data.sampler import SubsetRandomSampler\n",
    "from sklearn.model_selection import train_test_split"
   ]
  },
  {
   "cell_type": "code",
   "execution_count": 99,
   "id": "8358dd49",
   "metadata": {},
   "outputs": [
    {
     "name": "stdout",
     "output_type": "stream",
     "text": [
      "300\n",
      "[1. 0. 0. 0. 0.]\n"
     ]
    }
   ],
   "source": [
    "data_file = open(\"./extended_prepared_dataset.pickle\", \"rb\")\n",
    "data = pickle.load(data_file)\n",
    "print(len(data))\n",
    "print(data[0][1])\n",
    "# the symbols are one-hot encoded; alpha is the first and epsilon is the last symbol\n",
    "# first 60 symbols are alpha; second 60 are beta etc."
   ]
  },
  {
   "cell_type": "code",
   "execution_count": 100,
   "id": "4fa7c1cd",
   "metadata": {},
   "outputs": [],
   "source": [
    "random_seed = 69\n",
    "test_split = 0.2\n",
    "batch_size = 32"
   ]
  },
  {
   "cell_type": "code",
   "execution_count": 101,
   "id": "ee170622",
   "metadata": {},
   "outputs": [],
   "source": [
    "class CustomSymbolDataset(Dataset):\n",
    "    def __init__(self, symbols, labels, transform=None, target_transform=None):\n",
    "        \"\"\"\n",
    "            symbols - a list of tuples where the first \n",
    "            element is an array of normalized points and\n",
    "            the second is the one-hot encoded vector of\n",
    "            the respective symbol\n",
    "        \"\"\"\n",
    "        self.symbols = symbols\n",
    "        self.labels = labels\n",
    "        self.transform = transform\n",
    "        self.target_transform = target_transform\n",
    "\n",
    "    def __len__(self):\n",
    "        return len(self.labels)\n",
    "\n",
    "    def __getitem__(self, idx):\n",
    "        symbol = self.symbols[idx]\n",
    "        label = self.labels[idx]\n",
    "        if self.transform:\n",
    "            symbol = self.transform(symbol)\n",
    "        if self.target_transform:\n",
    "            label = self.target_transform(label)\n",
    "        return symbol, label\n",
    "    \n",
    "class ToTensor(object):\n",
    "    \"\"\"Convert numpy array in sample to Tensors.\"\"\"\n",
    "    def __call__(self, sample):\n",
    "        return torch.from_numpy(sample)"
   ]
  },
  {
   "cell_type": "code",
   "execution_count": 102,
   "id": "c1368106",
   "metadata": {},
   "outputs": [],
   "source": [
    "# Split the data into a train and validation set\n",
    "X_train, X_val, y_train, y_val = train_test_split(\n",
    "    dataset.symbols, \n",
    "    dataset.labels, \n",
    "    test_size=0.2,\n",
    "    random_state=random_seed,\n",
    "    shuffle=True)\n",
    "\n",
    "# Define the train dataset and dataloader\n",
    "train_dataset = CustomSymbolDataset(X_train, y_train, transform=ToTensor(), target_transform=ToTensor())\n",
    "train_dataloader = DataLoader(dataset=train_dataset, batch_size=32, shuffle=True, num_workers=0)\n",
    "\n",
    "# Define the validation dataset and dataloader\n",
    "val_dataset = CustomSymbolDataset(X_val, y_val, transform=ToTensor(), target_transform=ToTensor())\n",
    "val_dataloader = DataLoader(dataset=val_dataset, batch_size=32, shuffle=False, num_workers=0)"
   ]
  },
  {
   "cell_type": "code",
   "execution_count": null,
   "id": "ed9ea894",
   "metadata": {},
   "outputs": [],
   "source": []
  }
 ],
 "metadata": {
  "kernelspec": {
   "display_name": "Python 3 (ipykernel)",
   "language": "python",
   "name": "python3"
  },
  "language_info": {
   "codemirror_mode": {
    "name": "ipython",
    "version": 3
   },
   "file_extension": ".py",
   "mimetype": "text/x-python",
   "name": "python",
   "nbconvert_exporter": "python",
   "pygments_lexer": "ipython3",
   "version": "3.10.6"
  }
 },
 "nbformat": 4,
 "nbformat_minor": 5
}
